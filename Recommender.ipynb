{
 "cells": [
  {
   "cell_type": "code",
   "execution_count": 1,
   "metadata": {},
   "outputs": [],
   "source": [
    "import pandas as pd\n",
    "import numpy as np\n",
    "import seaborn as sns\n",
    "\n",
    "import matplotlib.pyplot as plt\n",
    "\n",
    "from sklearn.preprocessing import LabelEncoder\n",
    "from sklearn.preprocessing import MinMaxScaler, normalize\n",
    "\n",
    "from sklearn.cluster import KMeans \n",
    "\n",
    "from sklearn.decomposition import PCA\n",
    "\n",
    "from sklearn.metrics import accuracy_score\n",
    "\n"
   ]
  },
  {
   "cell_type": "code",
   "execution_count": 2,
   "metadata": {},
   "outputs": [
    {
     "data": {
      "text/html": [
       "<div>\n",
       "<style scoped>\n",
       "    .dataframe tbody tr th:only-of-type {\n",
       "        vertical-align: middle;\n",
       "    }\n",
       "\n",
       "    .dataframe tbody tr th {\n",
       "        vertical-align: top;\n",
       "    }\n",
       "\n",
       "    .dataframe thead th {\n",
       "        text-align: right;\n",
       "    }\n",
       "</style>\n",
       "<table border=\"1\" class=\"dataframe\">\n",
       "  <thead>\n",
       "    <tr style=\"text-align: right;\">\n",
       "      <th></th>\n",
       "      <th>Cust_id</th>\n",
       "      <th>AVG_Actual_price_12</th>\n",
       "      <th>Purchase_Value</th>\n",
       "      <th>No_of_Items</th>\n",
       "      <th>Total_Discount</th>\n",
       "      <th>MONTH_SINCE_LAST_TRANSACTION</th>\n",
       "    </tr>\n",
       "  </thead>\n",
       "  <tbody>\n",
       "    <tr>\n",
       "      <th>0</th>\n",
       "      <td>1</td>\n",
       "      <td>300.000000</td>\n",
       "      <td>1200.00</td>\n",
       "      <td>4</td>\n",
       "      <td>0.00</td>\n",
       "      <td>11</td>\n",
       "    </tr>\n",
       "    <tr>\n",
       "      <th>1</th>\n",
       "      <td>2</td>\n",
       "      <td>2563.282500</td>\n",
       "      <td>41012.52</td>\n",
       "      <td>16</td>\n",
       "      <td>78737.48</td>\n",
       "      <td>2</td>\n",
       "    </tr>\n",
       "    <tr>\n",
       "      <th>2</th>\n",
       "      <td>4</td>\n",
       "      <td>3510.000000</td>\n",
       "      <td>7020.00</td>\n",
       "      <td>2</td>\n",
       "      <td>780.00</td>\n",
       "      <td>4</td>\n",
       "    </tr>\n",
       "    <tr>\n",
       "      <th>3</th>\n",
       "      <td>8</td>\n",
       "      <td>4530.000000</td>\n",
       "      <td>13590.00</td>\n",
       "      <td>3</td>\n",
       "      <td>1510.00</td>\n",
       "      <td>1</td>\n",
       "    </tr>\n",
       "    <tr>\n",
       "      <th>4</th>\n",
       "      <td>9</td>\n",
       "      <td>2428.076923</td>\n",
       "      <td>33455.00</td>\n",
       "      <td>15</td>\n",
       "      <td>17445.00</td>\n",
       "      <td>6</td>\n",
       "    </tr>\n",
       "  </tbody>\n",
       "</table>\n",
       "</div>"
      ],
      "text/plain": [
       "   Cust_id  AVG_Actual_price_12  Purchase_Value  No_of_Items  Total_Discount  \\\n",
       "0        1           300.000000         1200.00            4            0.00   \n",
       "1        2          2563.282500        41012.52           16        78737.48   \n",
       "2        4          3510.000000         7020.00            2          780.00   \n",
       "3        8          4530.000000        13590.00            3         1510.00   \n",
       "4        9          2428.076923        33455.00           15        17445.00   \n",
       "\n",
       "   MONTH_SINCE_LAST_TRANSACTION  \n",
       "0                            11  \n",
       "1                             2  \n",
       "2                             4  \n",
       "3                             1  \n",
       "4                             6  "
      ]
     },
     "execution_count": 2,
     "metadata": {},
     "output_type": "execute_result"
    }
   ],
   "source": [
    "dataset = pd.read_csv(\"C:\\\\Users\\\\Lenovo\\\\Desktop\\\\Week9\\\\SupermarketPurchase.csv\")\n",
    "dataset.head()"
   ]
  },
  {
   "cell_type": "code",
   "execution_count": 3,
   "metadata": {},
   "outputs": [
    {
     "data": {
      "text/plain": [
       "Index(['Cust_id', 'AVG_Actual_price_12', 'Purchase_Value', 'No_of_Items',\n",
       "       'Total_Discount', 'MONTH_SINCE_LAST_TRANSACTION'],\n",
       "      dtype='object')"
      ]
     },
     "execution_count": 3,
     "metadata": {},
     "output_type": "execute_result"
    }
   ],
   "source": [
    "dataset.columns"
   ]
  },
  {
   "cell_type": "code",
   "execution_count": 4,
   "metadata": {},
   "outputs": [],
   "source": [
    "dataset = dataset.rename(columns = {'Cust_id':'cust_id','AVG_Actual_price_12':'avg_actual_price',\n",
    "                                    'Purchase_Value':'purchase_value','No_of_Items':'no_items',\n",
    "                                    'Total_Discount':'total_discount','MONTH_SINCE_LAST_TRANSACTION':'months'\n",
    "                                   \n",
    "                                   } \n",
    "                        \n",
    "                        )"
   ]
  },
  {
   "cell_type": "code",
   "execution_count": 5,
   "metadata": {},
   "outputs": [
    {
     "data": {
      "text/plain": [
       "Index(['cust_id', 'avg_actual_price', 'purchase_value', 'no_items',\n",
       "       'total_discount', 'months'],\n",
       "      dtype='object')"
      ]
     },
     "execution_count": 5,
     "metadata": {},
     "output_type": "execute_result"
    }
   ],
   "source": [
    "dataset.columns"
   ]
  },
  {
   "cell_type": "code",
   "execution_count": 6,
   "metadata": {},
   "outputs": [
    {
     "data": {
      "text/plain": [
       "cust_id             0\n",
       "avg_actual_price    0\n",
       "purchase_value      0\n",
       "no_items            0\n",
       "total_discount      0\n",
       "months              0\n",
       "dtype: int64"
      ]
     },
     "execution_count": 6,
     "metadata": {},
     "output_type": "execute_result"
    }
   ],
   "source": [
    "dataset.isnull().sum()"
   ]
  },
  {
   "cell_type": "code",
   "execution_count": 7,
   "metadata": {},
   "outputs": [
    {
     "data": {
      "text/html": [
       "<div>\n",
       "<style scoped>\n",
       "    .dataframe tbody tr th:only-of-type {\n",
       "        vertical-align: middle;\n",
       "    }\n",
       "\n",
       "    .dataframe tbody tr th {\n",
       "        vertical-align: top;\n",
       "    }\n",
       "\n",
       "    .dataframe thead th {\n",
       "        text-align: right;\n",
       "    }\n",
       "</style>\n",
       "<table border=\"1\" class=\"dataframe\">\n",
       "  <thead>\n",
       "    <tr style=\"text-align: right;\">\n",
       "      <th></th>\n",
       "      <th>cust_id</th>\n",
       "      <th>avg_actual_price</th>\n",
       "      <th>purchase_value</th>\n",
       "      <th>no_items</th>\n",
       "      <th>total_discount</th>\n",
       "      <th>months</th>\n",
       "    </tr>\n",
       "  </thead>\n",
       "  <tbody>\n",
       "    <tr>\n",
       "      <th>count</th>\n",
       "      <td>702.000000</td>\n",
       "      <td>702.000000</td>\n",
       "      <td>702.000000</td>\n",
       "      <td>702.000000</td>\n",
       "      <td>702.000000</td>\n",
       "      <td>702.000000</td>\n",
       "    </tr>\n",
       "    <tr>\n",
       "      <th>mean</th>\n",
       "      <td>501.414530</td>\n",
       "      <td>2642.877917</td>\n",
       "      <td>19820.633305</td>\n",
       "      <td>10.720798</td>\n",
       "      <td>20806.339088</td>\n",
       "      <td>5.029915</td>\n",
       "    </tr>\n",
       "    <tr>\n",
       "      <th>std</th>\n",
       "      <td>295.756706</td>\n",
       "      <td>1879.138285</td>\n",
       "      <td>34639.752609</td>\n",
       "      <td>20.038311</td>\n",
       "      <td>58427.798572</td>\n",
       "      <td>3.562840</td>\n",
       "    </tr>\n",
       "    <tr>\n",
       "      <th>min</th>\n",
       "      <td>1.000000</td>\n",
       "      <td>22.500000</td>\n",
       "      <td>45.000000</td>\n",
       "      <td>1.000000</td>\n",
       "      <td>-3962.480000</td>\n",
       "      <td>1.000000</td>\n",
       "    </tr>\n",
       "    <tr>\n",
       "      <th>25%</th>\n",
       "      <td>245.750000</td>\n",
       "      <td>1238.750000</td>\n",
       "      <td>4200.000000</td>\n",
       "      <td>2.000000</td>\n",
       "      <td>0.000000</td>\n",
       "      <td>2.000000</td>\n",
       "    </tr>\n",
       "    <tr>\n",
       "      <th>50%</th>\n",
       "      <td>486.500000</td>\n",
       "      <td>2100.000000</td>\n",
       "      <td>8660.000000</td>\n",
       "      <td>4.000000</td>\n",
       "      <td>2599.250000</td>\n",
       "      <td>4.000000</td>\n",
       "    </tr>\n",
       "    <tr>\n",
       "      <th>75%</th>\n",
       "      <td>763.750000</td>\n",
       "      <td>3700.000000</td>\n",
       "      <td>21197.000000</td>\n",
       "      <td>10.000000</td>\n",
       "      <td>17433.750000</td>\n",
       "      <td>8.000000</td>\n",
       "    </tr>\n",
       "    <tr>\n",
       "      <th>max</th>\n",
       "      <td>1006.000000</td>\n",
       "      <td>10000.000000</td>\n",
       "      <td>302721.740000</td>\n",
       "      <td>172.000000</td>\n",
       "      <td>734349.820000</td>\n",
       "      <td>12.000000</td>\n",
       "    </tr>\n",
       "  </tbody>\n",
       "</table>\n",
       "</div>"
      ],
      "text/plain": [
       "           cust_id  avg_actual_price  purchase_value    no_items  \\\n",
       "count   702.000000        702.000000      702.000000  702.000000   \n",
       "mean    501.414530       2642.877917    19820.633305   10.720798   \n",
       "std     295.756706       1879.138285    34639.752609   20.038311   \n",
       "min       1.000000         22.500000       45.000000    1.000000   \n",
       "25%     245.750000       1238.750000     4200.000000    2.000000   \n",
       "50%     486.500000       2100.000000     8660.000000    4.000000   \n",
       "75%     763.750000       3700.000000    21197.000000   10.000000   \n",
       "max    1006.000000      10000.000000   302721.740000  172.000000   \n",
       "\n",
       "       total_discount      months  \n",
       "count      702.000000  702.000000  \n",
       "mean     20806.339088    5.029915  \n",
       "std      58427.798572    3.562840  \n",
       "min      -3962.480000    1.000000  \n",
       "25%          0.000000    2.000000  \n",
       "50%       2599.250000    4.000000  \n",
       "75%      17433.750000    8.000000  \n",
       "max     734349.820000   12.000000  "
      ]
     },
     "execution_count": 7,
     "metadata": {},
     "output_type": "execute_result"
    }
   ],
   "source": [
    "dataset.describe()"
   ]
  },
  {
   "cell_type": "code",
   "execution_count": 8,
   "metadata": {},
   "outputs": [],
   "source": [
    "dataset[\"cust_id\"] = str(dataset[\"cust_id\"])"
   ]
  },
  {
   "cell_type": "code",
   "execution_count": 9,
   "metadata": {},
   "outputs": [
    {
     "data": {
      "text/html": [
       "<div>\n",
       "<style scoped>\n",
       "    .dataframe tbody tr th:only-of-type {\n",
       "        vertical-align: middle;\n",
       "    }\n",
       "\n",
       "    .dataframe tbody tr th {\n",
       "        vertical-align: top;\n",
       "    }\n",
       "\n",
       "    .dataframe thead th {\n",
       "        text-align: right;\n",
       "    }\n",
       "</style>\n",
       "<table border=\"1\" class=\"dataframe\">\n",
       "  <thead>\n",
       "    <tr style=\"text-align: right;\">\n",
       "      <th></th>\n",
       "      <th>avg_actual_price</th>\n",
       "      <th>purchase_value</th>\n",
       "      <th>no_items</th>\n",
       "      <th>total_discount</th>\n",
       "      <th>months</th>\n",
       "    </tr>\n",
       "  </thead>\n",
       "  <tbody>\n",
       "    <tr>\n",
       "      <th>count</th>\n",
       "      <td>702.000000</td>\n",
       "      <td>702.000000</td>\n",
       "      <td>702.000000</td>\n",
       "      <td>702.000000</td>\n",
       "      <td>702.000000</td>\n",
       "    </tr>\n",
       "    <tr>\n",
       "      <th>mean</th>\n",
       "      <td>2642.877917</td>\n",
       "      <td>19820.633305</td>\n",
       "      <td>10.720798</td>\n",
       "      <td>20806.339088</td>\n",
       "      <td>5.029915</td>\n",
       "    </tr>\n",
       "    <tr>\n",
       "      <th>std</th>\n",
       "      <td>1879.138285</td>\n",
       "      <td>34639.752609</td>\n",
       "      <td>20.038311</td>\n",
       "      <td>58427.798572</td>\n",
       "      <td>3.562840</td>\n",
       "    </tr>\n",
       "    <tr>\n",
       "      <th>min</th>\n",
       "      <td>22.500000</td>\n",
       "      <td>45.000000</td>\n",
       "      <td>1.000000</td>\n",
       "      <td>-3962.480000</td>\n",
       "      <td>1.000000</td>\n",
       "    </tr>\n",
       "    <tr>\n",
       "      <th>25%</th>\n",
       "      <td>1238.750000</td>\n",
       "      <td>4200.000000</td>\n",
       "      <td>2.000000</td>\n",
       "      <td>0.000000</td>\n",
       "      <td>2.000000</td>\n",
       "    </tr>\n",
       "    <tr>\n",
       "      <th>50%</th>\n",
       "      <td>2100.000000</td>\n",
       "      <td>8660.000000</td>\n",
       "      <td>4.000000</td>\n",
       "      <td>2599.250000</td>\n",
       "      <td>4.000000</td>\n",
       "    </tr>\n",
       "    <tr>\n",
       "      <th>75%</th>\n",
       "      <td>3700.000000</td>\n",
       "      <td>21197.000000</td>\n",
       "      <td>10.000000</td>\n",
       "      <td>17433.750000</td>\n",
       "      <td>8.000000</td>\n",
       "    </tr>\n",
       "    <tr>\n",
       "      <th>max</th>\n",
       "      <td>10000.000000</td>\n",
       "      <td>302721.740000</td>\n",
       "      <td>172.000000</td>\n",
       "      <td>734349.820000</td>\n",
       "      <td>12.000000</td>\n",
       "    </tr>\n",
       "  </tbody>\n",
       "</table>\n",
       "</div>"
      ],
      "text/plain": [
       "       avg_actual_price  purchase_value    no_items  total_discount  \\\n",
       "count        702.000000      702.000000  702.000000      702.000000   \n",
       "mean        2642.877917    19820.633305   10.720798    20806.339088   \n",
       "std         1879.138285    34639.752609   20.038311    58427.798572   \n",
       "min           22.500000       45.000000    1.000000    -3962.480000   \n",
       "25%         1238.750000     4200.000000    2.000000        0.000000   \n",
       "50%         2100.000000     8660.000000    4.000000     2599.250000   \n",
       "75%         3700.000000    21197.000000   10.000000    17433.750000   \n",
       "max        10000.000000   302721.740000  172.000000   734349.820000   \n",
       "\n",
       "           months  \n",
       "count  702.000000  \n",
       "mean     5.029915  \n",
       "std      3.562840  \n",
       "min      1.000000  \n",
       "25%      2.000000  \n",
       "50%      4.000000  \n",
       "75%      8.000000  \n",
       "max     12.000000  "
      ]
     },
     "execution_count": 9,
     "metadata": {},
     "output_type": "execute_result"
    }
   ],
   "source": [
    "dataset.describe()"
   ]
  },
  {
   "cell_type": "code",
   "execution_count": 12,
   "metadata": {},
   "outputs": [
    {
     "data": {
      "text/plain": [
       "dtype('O')"
      ]
     },
     "execution_count": 12,
     "metadata": {},
     "output_type": "execute_result"
    }
   ],
   "source": [
    "dataset[\"cust_id\"].dtypes"
   ]
  },
  {
   "cell_type": "code",
   "execution_count": 14,
   "metadata": {},
   "outputs": [
    {
     "data": {
      "text/plain": [
       "(702, 6)"
      ]
     },
     "execution_count": 14,
     "metadata": {},
     "output_type": "execute_result"
    }
   ],
   "source": [
    "dataset.shape"
   ]
  },
  {
   "cell_type": "code",
   "execution_count": 25,
   "metadata": {},
   "outputs": [],
   "source": [
    "dataset = dataset.drop(\"cust_id\",axis = 1)"
   ]
  },
  {
   "cell_type": "code",
   "execution_count": 26,
   "metadata": {},
   "outputs": [
    {
     "data": {
      "text/plain": [
       "<matplotlib.axes._subplots.AxesSubplot at 0x5421aff700>"
      ]
     },
     "execution_count": 26,
     "metadata": {},
     "output_type": "execute_result"
    },
    {
     "data": {
      "image/png": "[encoded data removed]",
      "text/plain": [
       "<Figure size 864x432 with 2 Axes>"
      ]
     },
     "metadata": {
      "needs_background": "light"
     },
     "output_type": "display_data"
    }
   ],
   "source": [
    "f, ax = plt.subplots(figsize=(12,6))\n",
    "\n",
    "sns.heatmap(dataset.corr(),square=True, cmap=\"RdYlGn\",linewidth=1,annot=True,fmt='.2f')"
   ]
  },
  {
   "cell_type": "code",
   "execution_count": 27,
   "metadata": {},
   "outputs": [
    {
     "data": {
      "text/plain": [
       "avg_actual_price    float64\n",
       "purchase_value      float64\n",
       "no_items              int64\n",
       "total_discount      float64\n",
       "months                int64\n",
       "dtype: object"
      ]
     },
     "execution_count": 27,
     "metadata": {},
     "output_type": "execute_result"
    }
   ],
   "source": [
    "dataset.dtypes"
   ]
  },
  {
   "cell_type": "code",
   "execution_count": 30,
   "metadata": {},
   "outputs": [],
   "source": [
    "scaler = MinMaxScaler()\n",
    "\n",
    "scaled_df = scaler.fit_transform(dataset.iloc[:,:])\n",
    "\n",
    "\n",
    "normalized_df = normalize(scaled_df)\n",
    "\n",
    "normalized_df = pd.DataFrame(normalized_df)\n"
   ]
  },
  {
   "cell_type": "code",
   "execution_count": 31,
   "metadata": {},
   "outputs": [
    {
     "data": {
      "text/html": [
       "<div>\n",
       "<style scoped>\n",
       "    .dataframe tbody tr th:only-of-type {\n",
       "        vertical-align: middle;\n",
       "    }\n",
       "\n",
       "    .dataframe tbody tr th {\n",
       "        vertical-align: top;\n",
       "    }\n",
       "\n",
       "    .dataframe thead th {\n",
       "        text-align: right;\n",
       "    }\n",
       "</style>\n",
       "<table border=\"1\" class=\"dataframe\">\n",
       "  <thead>\n",
       "    <tr style=\"text-align: right;\">\n",
       "      <th></th>\n",
       "      <th>P1</th>\n",
       "      <th>P2</th>\n",
       "      <th>P3</th>\n",
       "    </tr>\n",
       "  </thead>\n",
       "  <tbody>\n",
       "    <tr>\n",
       "      <th>0</th>\n",
       "      <td>-0.647738</td>\n",
       "      <td>0.123130</td>\n",
       "      <td>0.147053</td>\n",
       "    </tr>\n",
       "    <tr>\n",
       "      <th>1</th>\n",
       "      <td>0.474868</td>\n",
       "      <td>0.157772</td>\n",
       "      <td>-0.139255</td>\n",
       "    </tr>\n",
       "    <tr>\n",
       "      <th>2</th>\n",
       "      <td>0.061573</td>\n",
       "      <td>-0.282731</td>\n",
       "      <td>-0.058516</td>\n",
       "    </tr>\n",
       "    <tr>\n",
       "      <th>3</th>\n",
       "      <td>0.674888</td>\n",
       "      <td>-0.309109</td>\n",
       "      <td>0.138001</td>\n",
       "    </tr>\n",
       "    <tr>\n",
       "      <th>4</th>\n",
       "      <td>-0.240698</td>\n",
       "      <td>0.051002</td>\n",
       "      <td>-0.147757</td>\n",
       "    </tr>\n",
       "  </tbody>\n",
       "</table>\n",
       "</div>"
      ],
      "text/plain": [
       "         P1        P2        P3\n",
       "0 -0.647738  0.123130  0.147053\n",
       "1  0.474868  0.157772 -0.139255\n",
       "2  0.061573 -0.282731 -0.058516\n",
       "3  0.674888 -0.309109  0.138001\n",
       "4 -0.240698  0.051002 -0.147757"
      ]
     },
     "execution_count": 31,
     "metadata": {},
     "output_type": "execute_result"
    }
   ],
   "source": [
    "#PCA\n",
    "\n",
    "#Only 3 of them are well correlated,thus n=3\n",
    "pca = PCA(n_components = 3)\n",
    "\n",
    "X_principal = pca.fit_transform(normalized_df)\n",
    "X_principal = pd.DataFrame(X_principal)\n",
    "X_principal.columns = ['P1','P2','P3']\n",
    "\n",
    "X_principal.head()\n",
    "\n"
   ]
  },
  {
   "cell_type": "code",
   "execution_count": 32,
   "metadata": {},
   "outputs": [
    {
     "data": {
      "image/png": "[encoded data removed]",
      "text/plain": [
       "<Figure size 720x576 with 1 Axes>"
      ]
     },
     "metadata": {
      "needs_background": "light"
     },
     "output_type": "display_data"
    }
   ],
   "source": [
    "plt.figure(figsize=[10,8])\n",
    "plt.rcParams['font.size'] = 12\n",
    "\n",
    "pca.explained_variance_ratio_\n",
    "variance_sum = np.cumsum(np.round(pca.explained_variance_ratio_, decimals=5)*100)\n",
    "\n",
    "\n",
    "plt.plot(variance_sum, linestyle='dashed', linewidth = 1, \n",
    "         marker='o', markerfacecolor='blue', markersize=4)\n",
    "plt.xlabel('Principal component')\n",
    "plt.ylabel('variance')\n",
    "\n",
    "X = X_principal"
   ]
  },
  {
   "cell_type": "code",
   "execution_count": 33,
   "metadata": {},
   "outputs": [
    {
     "data": {
      "text/plain": [
       "[<matplotlib.lines.Line2D at 0x5447ff41c0>]"
      ]
     },
     "execution_count": 33,
     "metadata": {},
     "output_type": "execute_result"
    },
    {
     "data": {
      "image/png": "[encoded data removed]",
      "text/plain": [
       "<Figure size 432x288 with 1 Axes>"
      ]
     },
     "metadata": {
      "needs_background": "light"
     },
     "output_type": "display_data"
    }
   ],
   "source": [
    "wcss = []\n",
    "for i in range(1,11):\n",
    "    kmeans = KMeans(n_clusters = i, init='k-means++', random_state= None)\n",
    "    kmeans.fit(X)\n",
    "    wcss.append(kmeans.inertia_)\n",
    "\n",
    "plt.plot(range(1,11),wcss)"
   ]
  },
  {
   "cell_type": "code",
   "execution_count": 36,
   "metadata": {},
   "outputs": [
    {
     "name": "stdout",
     "output_type": "stream",
     "text": [
      "[[ 0.00253867 -0.17275457 -0.09045056]\n",
      " [ 0.49678973  0.59932831 -0.01337319]\n",
      " [-0.46408462  0.03637568  0.02556515]\n",
      " [ 0.59206599 -0.21244337  0.05692799]]\n"
     ]
    }
   ],
   "source": [
    "#According to Elbow method,4 clusters should  be used\n",
    "kmeans = KMeans( n_clusters = 4, init = 'k-means++')\n",
    "kmeans.fit(X)\n",
    "print(kmeans.cluster_centers_)\n",
    "\n",
    "clusters = kmeans.fit_predict(X)\n",
    "dataset['label']=clusters"
   ]
  },
  {
   "cell_type": "code",
   "execution_count": 37,
   "metadata": {},
   "outputs": [
    {
     "data": {
      "text/html": [
       "<div>\n",
       "<style scoped>\n",
       "    .dataframe tbody tr th:only-of-type {\n",
       "        vertical-align: middle;\n",
       "    }\n",
       "\n",
       "    .dataframe tbody tr th {\n",
       "        vertical-align: top;\n",
       "    }\n",
       "\n",
       "    .dataframe thead th {\n",
       "        text-align: right;\n",
       "    }\n",
       "</style>\n",
       "<table border=\"1\" class=\"dataframe\">\n",
       "  <thead>\n",
       "    <tr style=\"text-align: right;\">\n",
       "      <th></th>\n",
       "      <th>avg_actual_price</th>\n",
       "      <th>purchase_value</th>\n",
       "      <th>no_items</th>\n",
       "      <th>total_discount</th>\n",
       "      <th>months</th>\n",
       "      <th>label</th>\n",
       "    </tr>\n",
       "  </thead>\n",
       "  <tbody>\n",
       "    <tr>\n",
       "      <th>0</th>\n",
       "      <td>300.000000</td>\n",
       "      <td>1200.00</td>\n",
       "      <td>4</td>\n",
       "      <td>0.00</td>\n",
       "      <td>11</td>\n",
       "      <td>3</td>\n",
       "    </tr>\n",
       "    <tr>\n",
       "      <th>1</th>\n",
       "      <td>2563.282500</td>\n",
       "      <td>41012.52</td>\n",
       "      <td>16</td>\n",
       "      <td>78737.48</td>\n",
       "      <td>2</td>\n",
       "      <td>1</td>\n",
       "    </tr>\n",
       "    <tr>\n",
       "      <th>2</th>\n",
       "      <td>3510.000000</td>\n",
       "      <td>7020.00</td>\n",
       "      <td>2</td>\n",
       "      <td>780.00</td>\n",
       "      <td>4</td>\n",
       "      <td>0</td>\n",
       "    </tr>\n",
       "    <tr>\n",
       "      <th>3</th>\n",
       "      <td>4530.000000</td>\n",
       "      <td>13590.00</td>\n",
       "      <td>3</td>\n",
       "      <td>1510.00</td>\n",
       "      <td>1</td>\n",
       "      <td>1</td>\n",
       "    </tr>\n",
       "    <tr>\n",
       "      <th>4</th>\n",
       "      <td>2428.076923</td>\n",
       "      <td>33455.00</td>\n",
       "      <td>15</td>\n",
       "      <td>17445.00</td>\n",
       "      <td>6</td>\n",
       "      <td>3</td>\n",
       "    </tr>\n",
       "  </tbody>\n",
       "</table>\n",
       "</div>"
      ],
      "text/plain": [
       "   avg_actual_price  purchase_value  no_items  total_discount  months  label\n",
       "0        300.000000         1200.00         4            0.00      11      3\n",
       "1       2563.282500        41012.52        16        78737.48       2      1\n",
       "2       3510.000000         7020.00         2          780.00       4      0\n",
       "3       4530.000000        13590.00         3         1510.00       1      1\n",
       "4       2428.076923        33455.00        15        17445.00       6      3"
      ]
     },
     "execution_count": 37,
     "metadata": {},
     "output_type": "execute_result"
    }
   ],
   "source": [
    "dataset.head()"
   ]
  },
  {
   "cell_type": "code",
   "execution_count": 41,
   "metadata": {},
   "outputs": [
    {
     "data": {
      "text/plain": [
       "array([3, 1, 0, 2])"
      ]
     },
     "execution_count": 41,
     "metadata": {},
     "output_type": "execute_result"
    }
   ],
   "source": [
    "dataset[\"label\"].unique()"
   ]
  },
  {
   "cell_type": "code",
   "execution_count": 42,
   "metadata": {},
   "outputs": [
    {
     "data": {
      "image/png": "[encoded data removed]",
      "text/plain": [
       "<Figure size 432x288 with 1 Axes>"
      ]
     },
     "metadata": {
      "needs_background": "light"
     },
     "output_type": "display_data"
    }
   ],
   "source": [
    "plt.scatter(X_principal['P1'][dataset.label == 0 ], X_principal['P2'][dataset.label == 0 ])\n",
    "plt.scatter(X_principal['P1'][dataset.label == 1 ], X_principal['P2'][dataset.label == 1 ]) \n",
    "plt.scatter(X_principal['P1'][dataset.label == 2 ], X_principal['P2'][dataset.label == 2 ]) \n",
    "plt.scatter(X_principal['P1'][dataset.label == 3 ], X_principal['P2'][dataset.label == 3 ]) \n",
    "plt.scatter(kmeans.cluster_centers_[:,0],kmeans.cluster_centers_[:,1],s=100,color = \"k\")\n",
    "plt.show()\n",
    "\n",
    "#I guess it's quite babat clustering"
   ]
  },
  {
   "cell_type": "code",
   "execution_count": null,
   "metadata": {},
   "outputs": [],
   "source": []
  }
 ],
 "metadata": {
  "kernelspec": {
   "display_name": "Python 3",
   "language": "python",
   "name": "python3"
  },
  "language_info": {
   "codemirror_mode": {
    "name": "ipython",
    "version": 3
   },
   "file_extension": ".py",
   "mimetype": "text/x-python",
   "name": "python",
   "nbconvert_exporter": "python",
   "pygments_lexer": "ipython3",
   "version": "3.8.3"
  }
 },
 "nbformat": 4,
 "nbformat_minor": 4
}
